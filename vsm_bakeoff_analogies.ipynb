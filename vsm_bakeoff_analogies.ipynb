{
 "cells": [
  {
   "cell_type": "markdown",
   "metadata": {
    "collapsed": true
   },
   "source": [
    "# Bake-off: Word analogies\n",
    "\n",
    "__Important__: This isn't being run as a bake-off this year. It's included in the repository in case people want to do additional exploration or incorporate this kind of evaluation into a project."
   ]
  },
  {
   "cell_type": "code",
   "execution_count": 1,
   "metadata": {},
   "outputs": [],
   "source": [
    "__author__ = \"Christopher Potts\"\n",
    "__version__ = \"CS224u, Stanford, Spring 2018 term\""
   ]
  },
  {
   "cell_type": "markdown",
   "metadata": {},
   "source": [
    "## Contents\n",
    "\n",
    "0. [Contents](#Contents)\n",
    "0. [Overview](#Overview)\n",
    "0. [Set-up](#Set-up)\n",
    "0. [Analogy completion](#Analogy-completion)\n",
    "0. [Evaluation](#Evaluation)\n",
    "0. [Baseline](#Baseline)\n",
    "0. [Bake-off submission](#Bake-off-submission)"
   ]
  },
  {
   "cell_type": "markdown",
   "metadata": {},
   "source": [
    "## Overview"
   ]
  },
  {
   "cell_type": "markdown",
   "metadata": {},
   "source": [
    "Word analogies provide another kind of evaluation for distributed representations. Here, we are given three vectors A, B, and C, in the relationship\n",
    "\n",
    "*A is to B as C is to __*\n",
    "\n",
    "and asked to identify the fourth that completes the analogy. This section conducts such analyses using a large, automatically collected analogies dataset from Google. These analogies are by and large substantially easier than the classic brain-teaser analogies that used to appear on tests like the SAT, but it's still an interesting, demanding task.\n",
    "\n",
    "The core idea  is that we make predictions by creating the vector\n",
    "\n",
    "$$(A−B)+C$$\n",
    "\n",
    "and then ranking all vectors based on their distance from this new vector, choosing the closest as our prediction."
   ]
  },
  {
   "cell_type": "markdown",
   "metadata": {},
   "source": [
    "## Set-up"
   ]
  },
  {
   "cell_type": "code",
   "execution_count": 2,
   "metadata": {},
   "outputs": [],
   "source": [
    "from collections import defaultdict\n",
    "import csv\n",
    "import numpy as np\n",
    "import os\n",
    "import pandas as pd\n",
    "from scipy.stats import spearmanr\n",
    "import vsm"
   ]
  },
  {
   "cell_type": "code",
   "execution_count": 3,
   "metadata": {},
   "outputs": [],
   "source": [
    "data_home = 'vsmdata'\n",
    "\n",
    "analogies_home = os.path.join(data_home, 'question-data')"
   ]
  },
  {
   "cell_type": "markdown",
   "metadata": {},
   "source": [
    "## Analogy completion\n",
    "\n",
    "The function `analogy_completion` implements the analogy calculation on VSMs."
   ]
  },
  {
   "cell_type": "code",
   "execution_count": 4,
   "metadata": {},
   "outputs": [],
   "source": [
    "def analogy_completion(a, b, c, df, distfunc=vsm.cosine):\n",
    "    \"\"\"a is to be as c is to predicted, where predicted is the \n",
    "    closest to (b-a) + c\"\"\"\n",
    "    for x in (a, b, c):\n",
    "        if x not in df.index:\n",
    "            raise ValueError('{} is not in this VSM'.format(x))\n",
    "    avec = df.loc[a]\n",
    "    bvec = df.loc[b]\n",
    "    cvec = df.loc[c]\n",
    "    newvec = (bvec - avec) + cvec\n",
    "    dists = df.apply(lambda row: distfunc(newvec, row))\n",
    "    dists = dists.drop([a,b,c])\n",
    "    return pd.Series(dists).sort_values()"
   ]
  },
  {
   "cell_type": "code",
   "execution_count": 5,
   "metadata": {},
   "outputs": [],
   "source": [
    "imdb20 = pd.read_csv(\n",
    "    os.path.join(data_home, \"imdb_window20-flat.csv.gz\"), index_col=0)"
   ]
  },
  {
   "cell_type": "code",
   "execution_count": 6,
   "metadata": {},
   "outputs": [
    {
     "name": "stdout",
     "output_type": "stream",
     "text": [
      "                  !           \"        #        $        %         &  \\\n",
      "!         5882990.0    672470.0   6838.0   7181.0   6472.0   30748.0   \n",
      "\"          672470.0  13824574.0   7486.0   8704.0   9401.0   76558.0   \n",
      "#            6838.0      7486.0  70871.0   2061.0   1608.0    1134.0   \n",
      "$            7181.0      8704.0   2061.0  47079.0   1730.0    1239.0   \n",
      "%            6472.0      9401.0   1608.0   1730.0  37005.0    1250.0   \n",
      "&           30748.0     76558.0   1134.0   1239.0   1250.0  322769.0   \n",
      "'          165315.0    331952.0   2107.0   2347.0   2774.0   32050.0   \n",
      "(          317437.0   1101937.0   4631.0   6033.0   5863.0   61847.0   \n",
      ")          333281.0   1077277.0   4670.0   5814.0   5911.0   61644.0   \n",
      ");           1999.0     14421.0     17.0     21.0     39.0     544.0   \n",
      "*           32276.0     53022.0   1300.0   1159.0   1210.0    2535.0   \n",
      "**           7793.0     18853.0    134.0     94.0     74.0     504.0   \n",
      "***          9529.0     14310.0    148.0    126.0     67.0     772.0   \n",
      "****         6584.0      7712.0    114.0     52.0     49.0     422.0   \n",
      "*****        4978.0      3193.0     14.0     37.0     33.0     217.0   \n",
      "+            9517.0      8437.0    147.0    293.0    218.0     599.0   \n",
      ",         2161487.0   7408506.0  22410.0  34905.0  43987.0  314473.0   \n",
      "-          202365.0    548040.0   5114.0   3320.0   3672.0   18259.0   \n",
      ".         1672208.0   6696618.0  26110.0  41105.0  49342.0  291950.0   \n",
      "..          40499.0     38855.0    236.0    442.0    449.0    2666.0   \n",
      "...        197104.0    292292.0   1301.0   2020.0   2034.0   13101.0   \n",
      "....        34918.0     33822.0    276.0    406.0    278.0    1459.0   \n",
      ".....       11304.0      9428.0     61.0    128.0     88.0     447.0   \n",
      "/           40925.0    124441.0    546.0    764.0   1061.0    7516.0   \n",
      "0           16457.0      8268.0    108.0    176.0    394.0     447.0   \n",
      "1           18465.0     33163.0   6802.0   1481.0   1143.0    4351.0   \n",
      "1/2          2223.0      3540.0     27.0     41.0     29.0     476.0   \n",
      "10          52914.0     45396.0    516.0   2424.0   2118.0    2182.0   \n",
      "10/1        13357.0      5107.0     83.0     33.0    142.0     303.0   \n",
      "100          6614.0      8756.0    188.0     87.0   8759.0    1026.0   \n",
      "...             ...         ...      ...      ...      ...       ...   \n",
      "yen           212.0       580.0      0.0      8.0      1.0      19.0   \n",
      "yerevan         0.0         0.0      0.0      0.0      0.0       0.0   \n",
      "yes         24239.0     46308.0    179.0    266.0    328.0    1544.0   \n",
      "yet         24799.0     66829.0    175.0    305.0    421.0    3094.0   \n",
      "york         3832.0     19197.0     67.0     74.0     90.0     969.0   \n",
      "you        442529.0    815796.0   2915.0   6219.0   7000.0   27971.0   \n",
      "you'd        3311.0      8879.0     26.0    104.0     77.0     315.0   \n",
      "you'll      21572.0     35850.0    116.0    284.0    278.0    1427.0   \n",
      "you're      22910.0     57689.0    184.0    320.0    385.0    1456.0   \n",
      "you've       8987.0     22066.0     62.0    132.0    148.0     643.0   \n",
      "young       17196.0     67885.0    149.0    158.0    249.0    4259.0   \n",
      "younger      2943.0      9181.0     27.0     25.0     39.0     531.0   \n",
      "youngest      327.0      1054.0      0.0      2.0      2.0      65.0   \n",
      "your        83766.0    146720.0    597.0   1988.0   1167.0    5661.0   \n",
      "yourself    14138.0     23199.0     74.0    281.0    174.0     812.0   \n",
      "youth        1217.0      6150.0     10.0     10.0     21.0     260.0   \n",
      "zagreb          3.0         6.0      0.0      0.0      0.0       1.0   \n",
      "zambia          3.0         5.0      0.0      0.0      0.0       3.0   \n",
      "zebra          61.0       318.0      1.0      0.0      0.0       4.0   \n",
      "zimbabwe        0.0        23.0      0.0      0.0      1.0       1.0   \n",
      "zinc            2.0        13.0      0.0      0.0      0.0       0.0   \n",
      "zloty           0.0         0.0      0.0      0.0      0.0       0.0   \n",
      "zombie       5134.0     15711.0    100.0     93.0     78.0    1115.0   \n",
      "zombies      4233.0      8983.0     26.0     51.0     69.0     972.0   \n",
      "zoo           264.0       902.0      3.0      2.0      8.0      52.0   \n",
      "           10028.0     27168.0    105.0    118.0    210.0     847.0   \n",
      "            1483.0      7442.0     28.0     21.0     29.0     150.0   \n",
      "´            5895.0      9055.0     39.0     20.0     65.0     146.0   \n",
      "é            3175.0     13407.0    132.0     38.0     80.0     487.0   \n",
      "és           1376.0      6198.0      8.0      3.0     36.0     354.0   \n",
      "\n",
      "                  '          (          )       );   ...     zinc  zloty  \\\n",
      "!          165315.0   317437.0   333281.0   1999.0   ...      2.0    0.0   \n",
      "\"          331952.0  1101937.0  1077277.0  14421.0   ...     13.0    0.0   \n",
      "#            2107.0     4631.0     4670.0     17.0   ...      0.0    0.0   \n",
      "$            2347.0     6033.0     5814.0     21.0   ...      0.0    0.0   \n",
      "%            2774.0     5863.0     5911.0     39.0   ...      0.0    0.0   \n",
      "&           32050.0    61847.0    61644.0    544.0   ...      0.0    0.0   \n",
      "'         3444223.0   348408.0   343582.0   3824.0   ...     14.0    0.0   \n",
      "(          348408.0  3313697.0  3140562.0  33894.0   ...      7.0    1.0   \n",
      ")          343582.0  3140562.0  3359352.0   6616.0   ...      7.0    1.0   \n",
      ");           3824.0    33894.0     6616.0  28151.0   ...      0.0    0.0   \n",
      "*           14857.0    34548.0    34670.0    265.0   ...      1.0    0.0   \n",
      "**           3883.0    16021.0    15685.0     33.0   ...      0.0    0.0   \n",
      "***          4129.0    13374.0    13178.0     20.0   ...      0.0    0.0   \n",
      "****         1908.0     7599.0     8024.0     15.0   ...      0.0    0.0   \n",
      "*****         901.0     4084.0     4386.0      3.0   ...      0.0    0.0   \n",
      "+            2412.0     9387.0     8088.0   1436.0   ...      0.0    0.0   \n",
      ",         2246181.0  4054351.0  4064567.0  27107.0   ...     65.0    9.0   \n",
      "-          165630.0   259091.0   262082.0   3859.0   ...      6.0    0.0   \n",
      ".         2056467.0  3264432.0  3358909.0  11765.0   ...     37.0    8.0   \n",
      "..          13209.0    24413.0    24586.0     42.0   ...      1.0    0.0   \n",
      "...         75592.0   119012.0   125904.0    582.0   ...      2.0    0.0   \n",
      "....         9192.0    12896.0    13928.0     58.0   ...      2.0    0.0   \n",
      ".....        2541.0     3191.0     3421.0      9.0   ...      1.0    0.0   \n",
      "/           42701.0    85838.0    85852.0   1142.0   ...      1.0    0.0   \n",
      "0            2960.0     5944.0     6745.0     18.0   ...      0.0    0.0   \n",
      "1            9646.0    25680.0    40451.0    388.0   ...      0.0    0.0   \n",
      "1/2          1022.0     8752.0     8942.0     20.0   ...      0.0    0.0   \n",
      "10          13427.0    28123.0    30926.0    216.0   ...      1.0    7.0   \n",
      "10/1         1453.0     3637.0     4119.0      8.0   ...      0.0    0.0   \n",
      "100          2550.0     5981.0     6093.0     30.0   ...      0.0    0.0   \n",
      "...             ...        ...        ...      ...   ...      ...    ...   \n",
      "yen           174.0      635.0      625.0     14.0   ...      0.0    0.0   \n",
      "yerevan         0.0        0.0        0.0      0.0   ...      0.0    0.0   \n",
      "yes         12724.0    24708.0    23943.0    140.0   ...      0.0    0.0   \n",
      "yet         23829.0    37583.0    37855.0    292.0   ...      0.0    0.0   \n",
      "york         6436.0    14018.0    13877.0     89.0   ...      0.0    0.0   \n",
      "you        210004.0   303207.0   313384.0   1847.0   ...      4.0    0.0   \n",
      "you'd        2829.0     4017.0     4172.0     31.0   ...      0.0    0.0   \n",
      "you'll       9925.0    14976.0    15696.0     74.0   ...      0.0    0.0   \n",
      "you're      14072.0    18281.0    19146.0    152.0   ...      0.0    0.0   \n",
      "you've       5852.0     8314.0     8476.0     55.0   ...      0.0    0.0   \n",
      "young       23076.0    65396.0    64533.0    488.0   ...      0.0    0.0   \n",
      "younger      3466.0    10214.0    10255.0     71.0   ...      0.0    0.0   \n",
      "youngest      373.0     1668.0     1663.0     25.0   ...      0.0    0.0   \n",
      "your        37537.0    48915.0    51291.0    319.0   ...      0.0    0.0   \n",
      "yourself     5680.0     7050.0     7767.0     37.0   ...      0.0    0.0   \n",
      "youth        2412.0     3377.0     3304.0     32.0   ...      0.0    0.0   \n",
      "zagreb          2.0       13.0       12.0      0.0   ...      0.0    0.0   \n",
      "zambia          0.0        4.0        1.0      0.0   ...      0.0    0.0   \n",
      "zebra          60.0      216.0      207.0      1.0   ...      0.0    0.0   \n",
      "zimbabwe        5.0       30.0       31.0      0.0   ...      0.0    0.0   \n",
      "zinc           14.0        7.0        7.0      0.0   ...     30.0    0.0   \n",
      "zloty           0.0        1.0        1.0      0.0   ...      0.0    6.0   \n",
      "zombie       4968.0     7283.0     7276.0     30.0   ...      0.0    0.0   \n",
      "zombies      2845.0     5156.0     5236.0     44.0   ...      0.0    0.0   \n",
      "zoo           246.0      566.0      591.0      4.0   ...      0.0    0.0   \n",
      "           19489.0    24185.0    24423.0    530.0   ...      0.0    0.0   \n",
      "            2518.0     3882.0     3822.0     77.0   ...      0.0    0.0   \n",
      "´             237.0     3470.0     3559.0      4.0   ...      0.0    0.0   \n",
      "é            6397.0     9412.0     9223.0     87.0   ...      1.0    0.0   \n",
      "és           2109.0     3186.0     2988.0     19.0   ...      0.0    0.0   \n",
      "\n",
      "           zombie  zombies     zoo                         ´        é  \\\n",
      "!          5134.0   4233.0   264.0   10028.0   1483.0   5895.0   3175.0   \n",
      "\"         15711.0   8983.0   902.0   27168.0   7442.0   9055.0  13407.0   \n",
      "#           100.0     26.0     3.0     105.0     28.0     39.0    132.0   \n",
      "$            93.0     51.0     2.0     118.0     21.0     20.0     38.0   \n",
      "%            78.0     69.0     8.0     210.0     29.0     65.0     80.0   \n",
      "&          1115.0    972.0    52.0     847.0    150.0    146.0    487.0   \n",
      "'          4968.0   2845.0   246.0   19489.0   2518.0    237.0   6397.0   \n",
      "(          7283.0   5156.0   566.0   24185.0   3882.0   3470.0   9412.0   \n",
      ")          7276.0   5236.0   591.0   24423.0   3822.0   3559.0   9223.0   \n",
      ");           30.0     44.0     4.0     530.0     77.0      4.0     87.0   \n",
      "*           383.0    269.0    12.0    1131.0     78.0    167.0    300.0   \n",
      "**          284.0     81.0     3.0     121.0      7.0     52.0     80.0   \n",
      "***         117.0     48.0     4.0     101.0     17.0     71.0     85.0   \n",
      "****         45.0     26.0     1.0      44.0      6.0     33.0     41.0   \n",
      "*****        44.0     24.0     0.0      56.0      0.0     26.0     24.0   \n",
      "+            80.0     28.0     3.0     115.0      9.0     60.0     51.0   \n",
      ",         55309.0  42867.0  3695.0  131627.0  36015.0  30048.0  62673.0   \n",
      "-          2734.0   1973.0   213.0    5877.0   1637.0   1860.0   4770.0   \n",
      ".         56164.0  41736.0  3547.0  113294.0  27866.0  32137.0  57141.0   \n",
      "..          481.0    288.0    30.0     364.0     77.0    307.0    348.0   \n",
      "...        2325.0   1894.0   106.0     771.0    377.0   2371.0   1885.0   \n",
      "....        309.0    211.0    17.0      58.0     12.0    210.0    247.0   \n",
      ".....        78.0     56.0     4.0      14.0      1.0     72.0     52.0   \n",
      "/          1917.0    768.0    38.0    2146.0    434.0    430.0   1214.0   \n",
      "0            93.0     48.0     2.0     152.0     20.0     87.0     37.0   \n",
      "1           295.0    200.0     8.0     606.0     73.0    166.0    191.0   \n",
      "1/2          40.0     14.0     2.0      25.0      3.0      5.0     18.0   \n",
      "10          393.0    202.0    10.0     791.0     79.0    459.0    250.0   \n",
      "10/1         56.0     17.0     0.0      80.0     12.0     64.0     21.0   \n",
      "100          59.0     43.0     3.0     133.0     24.0     49.0     46.0   \n",
      "...           ...      ...     ...       ...      ...      ...      ...   \n",
      "yen           0.0      1.0     0.0      15.0      2.0      1.0      2.0   \n",
      "yerevan       0.0      0.0     0.0       0.0      0.0      0.0      0.0   \n",
      "yes         358.0    286.0    18.0     840.0    230.0    210.0    439.0   \n",
      "yet         527.0    365.0    16.0    2019.0    584.0    241.0    677.0   \n",
      "york        115.0     64.0   104.0     424.0     78.0     48.0    148.0   \n",
      "you        6998.0   4739.0   267.0   11518.0   2418.0   6747.0   4929.0   \n",
      "you'd        84.0     64.0     8.0     189.0     33.0      0.0     69.0   \n",
      "you'll      298.0    185.0    14.0     574.0    115.0      9.0    176.0   \n",
      "you're      569.0    259.0    21.0     787.0    153.0      5.0    289.0   \n",
      "you've      219.0    164.0     7.0     380.0     92.0      4.0    214.0   \n",
      "young       249.0    163.0    54.0    1707.0    432.0    203.0    840.0   \n",
      "younger      28.0      9.0     2.0     270.0     61.0     22.0     96.0   \n",
      "youngest      5.0      3.0     5.0      33.0     17.0      4.0     19.0   \n",
      "your       1274.0    797.0    43.0    2009.0    390.0    668.0    859.0   \n",
      "yourself    135.0     78.0     6.0     340.0     86.0    130.0    118.0   \n",
      "youth        18.0     12.0     3.0     164.0     38.0     27.0     64.0   \n",
      "zagreb        0.0      0.0     0.0       0.0      0.0      0.0      0.0   \n",
      "zambia        0.0      0.0     0.0       0.0      0.0      0.0      0.0   \n",
      "zebra         0.0      0.0    66.0      12.0      0.0      0.0      1.0   \n",
      "zimbabwe      0.0      0.0     0.0       1.0      3.0      0.0      0.0   \n",
      "zinc          0.0      0.0     0.0       0.0      0.0      0.0      1.0   \n",
      "zloty         0.0      0.0     0.0       0.0      0.0      0.0      0.0   \n",
      "zombie    42723.0   3906.0    15.0     178.0     56.0     57.0    110.0   \n",
      "zombies    3906.0  30673.0     7.0     143.0     39.0     31.0     54.0   \n",
      "zoo          15.0      7.0  2472.0      34.0      7.0      3.0      2.0   \n",
      "           178.0    143.0    34.0  129788.0     96.0      3.0    418.0   \n",
      "            56.0     39.0     7.0      96.0  31132.0      0.0    137.0   \n",
      "´            57.0     31.0     3.0       3.0      0.0  35773.0     51.0   \n",
      "é           110.0     54.0     2.0     418.0    137.0     51.0  38454.0   \n",
      "és           85.0     38.0     0.0     221.0     57.0     34.0    394.0   \n",
      "\n",
      "               és  \n",
      "!          1376.0  \n",
      "\"          6198.0  \n",
      "#             8.0  \n",
      "$             3.0  \n",
      "%            36.0  \n",
      "&           354.0  \n",
      "'          2109.0  \n",
      "(          3186.0  \n",
      ")          2988.0  \n",
      ");           19.0  \n",
      "*           138.0  \n",
      "**           43.0  \n",
      "***          31.0  \n",
      "****         24.0  \n",
      "*****         3.0  \n",
      "+            29.0  \n",
      ",         31454.0  \n",
      "-          2005.0  \n",
      ".         28951.0  \n",
      "..          116.0  \n",
      "...         893.0  \n",
      "....         82.0  \n",
      ".....        12.0  \n",
      "/           508.0  \n",
      "0            20.0  \n",
      "1           113.0  \n",
      "1/2          22.0  \n",
      "10          115.0  \n",
      "10/1          5.0  \n",
      "100          36.0  \n",
      "...           ...  \n",
      "yen           0.0  \n",
      "yerevan       0.0  \n",
      "yes         275.0  \n",
      "yet         327.0  \n",
      "york         28.0  \n",
      "you        2806.0  \n",
      "you'd        57.0  \n",
      "you'll      159.0  \n",
      "you're      200.0  \n",
      "you've      119.0  \n",
      "young       219.0  \n",
      "younger      24.0  \n",
      "youngest      5.0  \n",
      "your        459.0  \n",
      "yourself     59.0  \n",
      "youth        23.0  \n",
      "zagreb        0.0  \n",
      "zambia        0.0  \n",
      "zebra         1.0  \n",
      "zimbabwe      0.0  \n",
      "zinc          0.0  \n",
      "zloty         0.0  \n",
      "zombie       85.0  \n",
      "zombies      38.0  \n",
      "zoo           0.0  \n",
      "           221.0  \n",
      "            57.0  \n",
      "´            34.0  \n",
      "é           394.0  \n",
      "és        18443.0  \n",
      "\n",
      "[5000 rows x 5000 columns]\n"
     ]
    }
   ],
   "source": [
    "print(imdb20)"
   ]
  },
  {
   "cell_type": "code",
   "execution_count": 6,
   "metadata": {},
   "outputs": [],
   "source": [
    "imdb_ppmi = vsm.pmi(imdb20)"
   ]
  },
  {
   "cell_type": "code",
   "execution_count": 7,
   "metadata": {},
   "outputs": [],
   "source": [
    "x = analogy_completion(\"good\", \"great\", \"bad\", imdb_ppmi)"
   ]
  },
  {
   "cell_type": "code",
   "execution_count": 8,
   "metadata": {},
   "outputs": [
    {
     "data": {
      "text/plain": [
       "awful       0.589598\n",
       "terrible    0.603033\n",
       "acting      0.604288\n",
       "horrible    0.634886\n",
       "worst       0.648661\n",
       "dtype: float64"
      ]
     },
     "execution_count": 8,
     "metadata": {},
     "output_type": "execute_result"
    }
   ],
   "source": [
    "x.head()"
   ]
  },
  {
   "cell_type": "markdown",
   "metadata": {},
   "source": [
    "## Evaluation\n",
    "\n",
    "The function `analogy_evaluation` evaluates a VSM against one of the files in `analogies_home`. The default is to use `gram1-adjective-to-adverb.txt`, but there are a lot to choose from. The calculations are somewhat slow, so you can use the `verbose=True` option to see what predictions are being made incrementally."
   ]
  },
  {
   "cell_type": "code",
   "execution_count": 9,
   "metadata": {},
   "outputs": [],
   "source": [
    "def analogy_evaluation(\n",
    "        df, \n",
    "        src_filename='gram1-adjective-to-adverb.txt', \n",
    "        distfunc=vsm.cosine,\n",
    "        verbose=True):\n",
    "    \"\"\"Basic analogies evaluation for a file `src_filename `\n",
    "    in `question-data/`.\n",
    "    \n",
    "    Parameters\n",
    "    ----------    \n",
    "    df : pd.DataFrame\n",
    "        The VSM being evaluated.\n",
    "    src_filename : str\n",
    "        Basename of the file to be evaluated. It's assumed to be in\n",
    "        `analogies_home`.        \n",
    "    distfunc : function mapping vector pairs to floats (default: `cosine`)\n",
    "        The measure of distance between vectors. Can also be `euclidean`, \n",
    "        `matching`, `jaccard`, as well as any other distance measure \n",
    "        between 1d vectors.\n",
    "    \n",
    "    Returns\n",
    "    -------\n",
    "    (float, float)\n",
    "        The first is the mean reciprocal rank of the predictions and \n",
    "        the second is the accuracy of the predictions.\n",
    "    \n",
    "    \"\"\"\n",
    "    src_filename = os.path.join(analogies_home, src_filename)\n",
    "    # Read in the data and restrict to problems we can solve:\n",
    "    with open(src_filename) as f:    \n",
    "        data = [line.split() for line in f.read().splitlines()]\n",
    "    data = [prob for prob in data if set(prob) <= set(df.index)]\n",
    "    # Run the evaluation, collecting accuracy and rankings:\n",
    "    results = defaultdict(int)\n",
    "    ranks = []\n",
    "    for a, b, c, d in data:\n",
    "        ranking = analogy_completion(a, b, c, df=df, distfunc=distfunc)       \n",
    "        predicted = ranking.index[0]\n",
    "        # Accuracy:\n",
    "        results[predicted == d] += 1  \n",
    "        # Rank of actual, starting at 1:\n",
    "        rank = ranking.index.get_loc(d) + 1\n",
    "        ranks.append(rank)        \n",
    "        if verbose:\n",
    "            print(\"{} is to {} as {} is to {} (gold: {} at rank {})\".format(\n",
    "                a, b, c, predicted, d, rank))        \n",
    "    # Return the mean reciprocal rank and the accuracy results:\n",
    "    mrr = np.mean(1.0 / (np.array(ranks)))\n",
    "    return (mrr, results)"
   ]
  },
  {
   "cell_type": "markdown",
   "metadata": {},
   "source": [
    "## Baseline\n",
    "\n",
    "My baseline is PPMI on `imdb20` as loaded above:"
   ]
  },
  {
   "cell_type": "code",
   "execution_count": 10,
   "metadata": {},
   "outputs": [
    {
     "data": {
      "text/plain": [
       "(0.5446665665352782, defaultdict(int, {False: 297, True: 209}))"
      ]
     },
     "execution_count": 10,
     "metadata": {},
     "output_type": "execute_result"
    }
   ],
   "source": [
    "analogy_evaluation(imdb_ppmi, src_filename='family.txt', verbose=False)"
   ]
  },
  {
   "cell_type": "code",
   "execution_count": 11,
   "metadata": {},
   "outputs": [
    {
     "data": {
      "text/plain": [
       "(0.14621311421118469, defaultdict(int, {False: 904, True: 88}))"
      ]
     },
     "execution_count": 11,
     "metadata": {},
     "output_type": "execute_result"
    }
   ],
   "source": [
    "analogy_evaluation(imdb_ppmi, src_filename='gram1-adjective-to-adverb.txt', verbose=False)"
   ]
  },
  {
   "cell_type": "code",
   "execution_count": 12,
   "metadata": {},
   "outputs": [
    {
     "data": {
      "text/plain": [
       "(0.11918977012507004, defaultdict(int, {False: 756, True: 56}))"
      ]
     },
     "execution_count": 12,
     "metadata": {},
     "output_type": "execute_result"
    }
   ],
   "source": [
    "analogy_evaluation(imdb_ppmi, src_filename='gram2-opposite.txt', verbose=False)"
   ]
  },
  {
   "cell_type": "markdown",
   "metadata": {},
   "source": [
    "## Bake-off submission\n",
    "\n",
    "1. The name of the count matrix you started with (must be one in `vsmdata`).\n",
    "1. A description of the steps you took to create your bake-off VSM – must be different from the above baseline.\n",
    "1. Your mean reciprocal rank scores for the following files in `analogies_home`:\n",
    "  * 'family.txt'\n",
    "  * 'gram1-adjective-to-adverb.txt'\n",
    "  * 'gram2-opposite.txt'"
   ]
  }
 ],
 "metadata": {
  "kernelspec": {
   "display_name": "Python 3",
   "language": "python",
   "name": "python3"
  },
  "language_info": {
   "codemirror_mode": {
    "name": "ipython",
    "version": 3
   },
   "file_extension": ".py",
   "mimetype": "text/x-python",
   "name": "python",
   "nbconvert_exporter": "python",
   "pygments_lexer": "ipython3",
   "version": "3.6.5"
  },
  "widgets": {
   "state": {},
   "version": "1.1.2"
  }
 },
 "nbformat": 4,
 "nbformat_minor": 2
}
